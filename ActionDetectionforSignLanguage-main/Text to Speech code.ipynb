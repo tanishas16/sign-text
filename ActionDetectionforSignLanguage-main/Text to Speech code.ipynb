{
 "cells": [
  {
   "cell_type": "code",
   "execution_count": 1,
   "id": "8292e450",
   "metadata": {},
   "outputs": [],
   "source": [
    "import pyttsx3"
   ]
  },
  {
   "cell_type": "code",
   "execution_count": 2,
   "id": "83d1e577",
   "metadata": {},
   "outputs": [],
   "source": [
    "text_speech = pyttsx3.init()"
   ]
  },
  {
   "cell_type": "code",
   "execution_count": null,
   "id": "03966517",
   "metadata": {},
   "outputs": [],
   "source": [
    "while True:\n",
    "    answer = input(\"Write what you want to say: \")\n",
    "    text_speech.say(answer)\n",
    "    text_speech.runAndWait()\n",
    "    if answer == True:\n",
    "        continue"
   ]
  }
 ],
 "metadata": {
  "kernelspec": {
   "display_name": "Python 3",
   "language": "python",
   "name": "python3"
  },
  "language_info": {
   "codemirror_mode": {
    "name": "ipython",
    "version": 3
   },
   "file_extension": ".py",
   "mimetype": "text/x-python",
   "name": "python",
   "nbconvert_exporter": "python",
   "pygments_lexer": "ipython3",
   "version": "3.8.8"
  }
 },
 "nbformat": 4,
 "nbformat_minor": 5
}
